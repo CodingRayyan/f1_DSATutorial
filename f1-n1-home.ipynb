{
 "cells": [
  {
   "cell_type": "markdown",
   "id": "7f797558",
   "metadata": {},
   "source": [
    "###\n",
    "## 1. Find the lowest value in a list:\n",
    "###"
   ]
  },
  {
   "cell_type": "code",
   "execution_count": 1,
   "id": "22f0c5ba",
   "metadata": {},
   "outputs": [
    {
     "name": "stdout",
     "output_type": "stream",
     "text": [
      "Lowest number in list: 1\n"
     ]
    }
   ],
   "source": [
    "mylist = [1,12,23,34]\n",
    "num = mylist[1]\n",
    "\n",
    "for i in mylist:\n",
    "    if i  < num:\n",
    "        num = i\n",
    "\n",
    "print(f'Lowest number in list: {num}')"
   ]
  },
  {
   "cell_type": "markdown",
   "id": "bddf2fc9",
   "metadata": {},
   "source": [
    "###\n",
    "## 2. Find the highest number in a list:\n",
    "###"
   ]
  },
  {
   "cell_type": "code",
   "execution_count": 2,
   "id": "14c916c9",
   "metadata": {},
   "outputs": [
    {
     "name": "stdout",
     "output_type": "stream",
     "text": [
      "100\n"
     ]
    }
   ],
   "source": [
    "mylist = [28, 32, 39, 49, 57, 66, 82, 93, 100]\n",
    "num = mylist[1]\n",
    "\n",
    "for i in mylist:\n",
    "    if i > num:\n",
    "        num = i\n",
    "        \n",
    "print(num)"
   ]
  },
  {
   "cell_type": "markdown",
   "id": "75fb549d",
   "metadata": {},
   "source": [
    "###\n",
    "## 3. Find even & odd numbers in a list and print length:\n",
    "###"
   ]
  },
  {
   "cell_type": "code",
   "execution_count": 3,
   "id": "513aa01d",
   "metadata": {},
   "outputs": [
    {
     "name": "stdout",
     "output_type": "stream",
     "text": [
      "List:  [58, 59, 7, 65, 82, 69, 77, 62, 52, 7, 79, 36, 81, 97, 44, 78, 26, 63, 12, 47, 34, 11, 53, 8, 70]\n",
      "\n",
      "Even Number: [58, 82, 62, 52, 36, 44, 78, 26, 12, 34, 8, 70]\n",
      "\n",
      "Odd Number: [59, 7, 65, 69, 77, 7, 79, 81, 97, 63, 47, 11, 53]\n",
      "\n",
      "There are 25 numbers in list, out of which 12 are even, and 13 are odd.\n"
     ]
    }
   ],
   "source": [
    "import numpy as np\n",
    "\n",
    "a = np.random.randint(10,30)\n",
    "mylist = np.random.randint(1, 100, size = a)\n",
    "mylist = list(mylist)\n",
    "print(\"List: \", mylist)\n",
    "\n",
    "even = []\n",
    "odd = []\n",
    "\n",
    "for i in mylist:\n",
    "    if i % 2 == 0:\n",
    "        even.append(i)\n",
    "    elif i % 2 != 0:\n",
    "        odd.append(i)\n",
    "    else:\n",
    "        print('None')\n",
    "        \n",
    "print(f\"\\nEven Number: {even}\")\n",
    "print(f\"\\nOdd Number: {odd}\")\n",
    "print(f'\\nThere are {len(mylist)} numbers in list, out of which {len(even)} are even, and {len(odd)} are odd.')"
   ]
  },
  {
   "cell_type": "markdown",
   "id": "ea03f4dc",
   "metadata": {},
   "source": [
    "###\n",
    "## 4. Find sum of all elements in a list:\n",
    "###"
   ]
  },
  {
   "cell_type": "code",
   "execution_count": 4,
   "id": "c0d0867d",
   "metadata": {},
   "outputs": [
    {
     "name": "stdout",
     "output_type": "stream",
     "text": [
      "List:  [50, 83, 88, 80, 14, 73, 51, 15]\n",
      "454\n"
     ]
    }
   ],
   "source": [
    "a = np.random.randint(5,12)\n",
    "mylist = np.random.randint(1, 100, size = a)\n",
    "mylist = list(mylist)\n",
    "print(\"List: \", mylist)\n",
    "\n",
    "num = 0\n",
    "\n",
    "for i in mylist:\n",
    "    num += i\n",
    "print(num)"
   ]
  },
  {
   "cell_type": "markdown",
   "id": "952504c6",
   "metadata": {},
   "source": [
    "###\n",
    "## 5. Reverse a List Without Using reversed() ---------------------------------------------------- X\n",
    "###"
   ]
  },
  {
   "cell_type": "code",
   "execution_count": 5,
   "id": "a6188ee5",
   "metadata": {},
   "outputs": [
    {
     "name": "stdout",
     "output_type": "stream",
     "text": [
      "List:  [58, 81, 94, 98, 92, 48]\n",
      "Reversed list: [48, 92, 98, 94, 81, 58]\n"
     ]
    }
   ],
   "source": [
    "a = np.random.randint(5,12)\n",
    "mylist = np.random.randint(1, 100, size = a)\n",
    "mylist = list(mylist)\n",
    "print(\"List: \", mylist)\n",
    "\n",
    "reversed_list = []\n",
    "\n",
    "for i in range(len(mylist)-1, -1, -1):\n",
    "    reversed_list.append(mylist[i])\n",
    "\n",
    "print(f'Reversed list: {reversed_list}')\n",
    "    "
   ]
  },
  {
   "cell_type": "markdown",
   "id": "cfe22d47",
   "metadata": {},
   "source": [
    "###\n",
    "## 6. Find second highest number:\n",
    "###"
   ]
  },
  {
   "cell_type": "code",
   "execution_count": 6,
   "id": "dc1dbca9",
   "metadata": {},
   "outputs": [
    {
     "name": "stdout",
     "output_type": "stream",
     "text": [
      "List:  [67, 30, 78, 72, 41, 85]\n",
      "Highest number:  85\n",
      "Second highest number:  78\n"
     ]
    }
   ],
   "source": [
    "a = np.random.randint(5, 8)\n",
    "mylist = np.random.randint(1, 100, size = a)\n",
    "mylist = list(mylist)\n",
    "print(\"List: \", mylist)\n",
    "\n",
    "num = mylist[1]\n",
    "\n",
    "for i in mylist:\n",
    "    if i > num:\n",
    "        num = i\n",
    "print('Highest number: ', num)\n",
    "        \n",
    "mylist.remove(num)\n",
    "\n",
    "numone = mylist[1]\n",
    "\n",
    "for i in mylist:\n",
    "    if i > numone:\n",
    "        numone = i\n",
    "print('Second highest number: ', numone)\n",
    "\n"
   ]
  },
  {
   "cell_type": "markdown",
   "id": "9fcdebf9",
   "metadata": {},
   "source": [
    "###\n",
    "## 7a. Find the Count of Numbers Greater than a Threshold:\n",
    "###"
   ]
  },
  {
   "cell_type": "code",
   "execution_count": 7,
   "id": "67df26d3",
   "metadata": {},
   "outputs": [
    {
     "name": "stdout",
     "output_type": "stream",
     "text": [
      "List:  [65, 21, 34, 54, 50, 77, 12, 53, 38, 27]\n",
      "Threshold:  45\n",
      "Numbers greator than threshold (45):  [65, 54, 50, 77, 53]\n",
      "Length numbers greator than threshold (45):  5\n"
     ]
    }
   ],
   "source": [
    "thr = np.random.randint(1, 50)\n",
    "mylist = np.random.randint(5, 100, size = 10)\n",
    "mylist = list(mylist)\n",
    "\n",
    "num = []\n",
    "\n",
    "for i in mylist:\n",
    "    if i > thr:\n",
    "        num.append(i)\n",
    "\n",
    "print('List: ', mylist)\n",
    "print('Threshold: ', thr)\n",
    "print(f'Numbers greator than threshold ({thr}): ', num)\n",
    "print(f'Length numbers greator than threshold ({thr}): ', len(num))"
   ]
  },
  {
   "cell_type": "markdown",
   "id": "2ab44985",
   "metadata": {},
   "source": [
    "###\n",
    "## 7b. Find the Count of Numbers Greater than a Threshold:\n",
    "###"
   ]
  },
  {
   "cell_type": "code",
   "execution_count": 8,
   "id": "d16178a2",
   "metadata": {},
   "outputs": [
    {
     "name": "stdout",
     "output_type": "stream",
     "text": [
      "Numbers greater than 15: 3\n"
     ]
    }
   ],
   "source": [
    "mylist = [10, 22, 5, 18, 30]\n",
    "threshold = 15\n",
    "count = 0\n",
    "\n",
    "for i in mylist:\n",
    "    if i > threshold:\n",
    "        count += 1\n",
    "\n",
    "print(f'Numbers greater than {threshold}: {count}')\n"
   ]
  },
  {
   "cell_type": "markdown",
   "id": "9ef1e795",
   "metadata": {},
   "source": [
    "###\n",
    "## 8. Count Occurrences of a Specific Number:\n",
    "###"
   ]
  },
  {
   "cell_type": "code",
   "execution_count": 9,
   "id": "10bf609b",
   "metadata": {},
   "outputs": [
    {
     "name": "stdout",
     "output_type": "stream",
     "text": [
      "List:  [6, 1, 1, 2, 1, 5, 6, 5, 6, 5]\n",
      "Target:  6\n",
      "Target value \"6\" appears \"3\" times in the given list.\n"
     ]
    }
   ],
   "source": [
    "a = np.random.randint(10, 12)\n",
    "mylist = np.random.randint(1, 7, size = a)\n",
    "mylist = list(mylist)\n",
    "\n",
    "tar = np.random.choice(mylist)\n",
    "print(\"List: \", mylist)\n",
    "print('Target: ', tar)\n",
    "\n",
    "count = 0\n",
    "\n",
    "for i in mylist:\n",
    "    if i == tar:\n",
    "        count += 1\n",
    "        \n",
    "print(f'Target value \"{tar}\" appears \"{count}\" times in the given list.')"
   ]
  },
  {
   "cell_type": "markdown",
   "id": "3e844070",
   "metadata": {},
   "source": [
    "###\n",
    "## 9. Find All Numbers Divisible by 3:\n",
    "###"
   ]
  },
  {
   "cell_type": "code",
   "execution_count": 10,
   "id": "4f8ccdce",
   "metadata": {},
   "outputs": [
    {
     "name": "stdout",
     "output_type": "stream",
     "text": [
      "[3, 9, 12]\n"
     ]
    }
   ],
   "source": [
    "a = [2, 3, 7, 9, 12, 19]\n",
    "num = []\n",
    "\n",
    "for i in a:\n",
    "    if i % 3 == 0:\n",
    "        num.append(i)\n",
    "        \n",
    "print(num)"
   ]
  },
  {
   "cell_type": "markdown",
   "id": "ffc6ab88",
   "metadata": {},
   "source": [
    "###\n",
    "## 10. Calculate the product of all elements:\n",
    "###"
   ]
  },
  {
   "cell_type": "code",
   "execution_count": 11,
   "id": "0507c67d",
   "metadata": {},
   "outputs": [
    {
     "name": "stdout",
     "output_type": "stream",
     "text": [
      "List:  [6, 6, 3, 1, 4, 5, 1, 4]\n",
      "Sum of all integers present in list:  8640\n"
     ]
    }
   ],
   "source": [
    "a = np.random.randint(5, 12)\n",
    "mylist = np.random.randint(1, 7, size = a)\n",
    "mylist = list(mylist)\n",
    "print('List: ', mylist)\n",
    "\n",
    "num = 1\n",
    "\n",
    "for i in mylist:\n",
    "    num *= i\n",
    "\n",
    "print('Sum of all integers present in list: ', num)"
   ]
  },
  {
   "cell_type": "markdown",
   "id": "edbd318c",
   "metadata": {},
   "source": [
    "###\n",
    "## 11. Remove All Duplicates from a List:\n",
    "###"
   ]
  },
  {
   "cell_type": "code",
   "execution_count": 12,
   "id": "865a684f",
   "metadata": {},
   "outputs": [
    {
     "name": "stdout",
     "output_type": "stream",
     "text": [
      "List:  [5, 2, 4, 2, 1, 6, 2, 2, 2, 6]\n",
      "[5, 2, 4, 1, 6]\n"
     ]
    }
   ],
   "source": [
    "a = np.random.randint(5, 12)\n",
    "mylist = np.random.randint(1, 7, size = a)\n",
    "mylist = list(mylist)\n",
    "print('List: ', mylist)\n",
    "\n",
    "num = []\n",
    "\n",
    "for i in mylist:\n",
    "    if i not in num:\n",
    "        num.append(i)\n",
    "        \n",
    "print(num)"
   ]
  },
  {
   "cell_type": "markdown",
   "id": "73cae2fd",
   "metadata": {},
   "source": [
    "###\n",
    "## 12. Find the Sum of Even Numbers Only:\n",
    "###"
   ]
  },
  {
   "cell_type": "code",
   "execution_count": 13,
   "id": "8f45a3de",
   "metadata": {},
   "outputs": [
    {
     "name": "stdout",
     "output_type": "stream",
     "text": [
      "List:  [6, 6, 1, 2, 5, 4, 4]\n",
      "Sum of all even numbers in the given list:  22\n"
     ]
    }
   ],
   "source": [
    "a = np.random.randint(5, 12)\n",
    "mylist = np.random.randint(1, 7, size = a)\n",
    "mylist = list(mylist)\n",
    "print('List: ', mylist)\n",
    "\n",
    "Sum = 0\n",
    "\n",
    "for i in mylist:\n",
    "    if i % 2 == 0:\n",
    "         Sum += i\n",
    "        \n",
    "print('Sum of all even numbers in the given list: ', Sum)"
   ]
  },
  {
   "cell_type": "markdown",
   "id": "50e8be59",
   "metadata": {},
   "source": [
    "###\n",
    "## 13. Find the Frequency of Each Number in the List: --------------------------------------------------  X\n",
    "###"
   ]
  },
  {
   "cell_type": "code",
   "execution_count": 14,
   "id": "4b601061",
   "metadata": {},
   "outputs": [
    {
     "name": "stdout",
     "output_type": "stream",
     "text": [
      "Frequency of each number: {1: 1, 2: 2, 3: 3, 4: 4}\n"
     ]
    }
   ],
   "source": [
    "mylist = [1, 2, 2, 3, 3, 3, 4, 4, 4, 4]\n",
    "frequency = {}\n",
    "\n",
    "for i in mylist:\n",
    "    if i in frequency:\n",
    "        frequency[i] += 1\n",
    "    else:\n",
    "        frequency[i] = 1\n",
    "\n",
    "print(\"Frequency of each number:\", frequency)\n"
   ]
  },
  {
   "cell_type": "markdown",
   "id": "67b7654b",
   "metadata": {},
   "source": [
    "###\n",
    "## 14. Replace all odds with -1:\n",
    "###"
   ]
  },
  {
   "cell_type": "code",
   "execution_count": 15,
   "id": "b4303b9c",
   "metadata": {},
   "outputs": [
    {
     "name": "stdout",
     "output_type": "stream",
     "text": [
      "List:  [1, 4, 4, 3, 4, 3]\n",
      "List after replacing odds with -1:  [-1, 4, 4, -1, 4, -1]\n"
     ]
    }
   ],
   "source": [
    "a = np.random.randint(5, 12)\n",
    "mylist = np.random.randint(1, 7, size = a)\n",
    "mylist = list(mylist)\n",
    "print('List: ', mylist)\n",
    "\n",
    "replist = []\n",
    "\n",
    "for i in mylist:\n",
    "    if i % 2 == 0:\n",
    "        replist.append(i)\n",
    "    if i % 2 != 0:\n",
    "        replist.append(-1)\n",
    "        \n",
    "print('List after replacing odds with -1: ', replist)"
   ]
  },
  {
   "cell_type": "code",
   "execution_count": null,
   "id": "5b82000f",
   "metadata": {},
   "outputs": [],
   "source": []
  }
 ],
 "metadata": {
  "kernelspec": {
   "display_name": "Python 3 (ipykernel)",
   "language": "python",
   "name": "python3"
  },
  "language_info": {
   "codemirror_mode": {
    "name": "ipython",
    "version": 3
   },
   "file_extension": ".py",
   "mimetype": "text/x-python",
   "name": "python",
   "nbconvert_exporter": "python",
   "pygments_lexer": "ipython3",
   "version": "3.11.5"
  }
 },
 "nbformat": 4,
 "nbformat_minor": 5
}
