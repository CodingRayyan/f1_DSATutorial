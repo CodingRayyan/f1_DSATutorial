{
 "cells": [
  {
   "cell_type": "markdown",
   "id": "68231a32",
   "metadata": {},
   "source": [
    "###\n",
    "## 1. Fibonacci Series Using For Loop:\n",
    "###"
   ]
  },
  {
   "cell_type": "code",
   "execution_count": 1,
   "id": "ef507420",
   "metadata": {},
   "outputs": [
    {
     "name": "stdout",
     "output_type": "stream",
     "text": [
      "0\n",
      "1\n",
      "1\n",
      "2\n",
      "3\n",
      "5\n",
      "8\n"
     ]
    }
   ],
   "source": [
    "one = 0\n",
    "two = 1\n",
    "\n",
    "print(one)\n",
    "print(two)\n",
    "\n",
    "for i in range(5):\n",
    "    new = one + two\n",
    "    print(new)\n",
    "    one = two\n",
    "    two = new"
   ]
  },
  {
   "cell_type": "markdown",
   "id": "e7cc8e7f",
   "metadata": {},
   "source": [
    "###\n",
    "## 2. Fibonacci Series Using Recursion: \n",
    "###"
   ]
  },
  {
   "cell_type": "code",
   "execution_count": 2,
   "id": "43b48659",
   "metadata": {},
   "outputs": [
    {
     "name": "stdout",
     "output_type": "stream",
     "text": [
      "0\n",
      "1\n",
      "1\n",
      "2\n",
      "3\n",
      "5\n",
      "8\n",
      "Program Ended\n"
     ]
    }
   ],
   "source": [
    "print(0)\n",
    "print(1)\n",
    "count = 2\n",
    "\n",
    "def fibonacci(prev1, prev2):\n",
    "    global count\n",
    "    if count <= 6:\n",
    "        newFibo = prev1 + prev2\n",
    "        print(newFibo)\n",
    "        prev2 = prev1\n",
    "        prev1 = newFibo\n",
    "        count += 1\n",
    "        fibonacci(prev1, prev2)\n",
    "    else:\n",
    "        print('Program Ended')\n",
    "\n",
    "fibonacci(1,0)"
   ]
  },
  {
   "cell_type": "markdown",
   "id": "652cf06f",
   "metadata": {},
   "source": [
    "###\n",
    "## 3. Finding the nth Fibonacci number using recursion. ------------------------------------------------x\n",
    "###"
   ]
  },
  {
   "cell_type": "code",
   "execution_count": 3,
   "id": "8775c554",
   "metadata": {},
   "outputs": [
    {
     "name": "stdout",
     "output_type": "stream",
     "text": [
      "13\n"
     ]
    }
   ],
   "source": [
    "def F(n):\n",
    "    if n <= 1:\n",
    "        return n\n",
    "    else:\n",
    "        return F(n - 1) + F(n - 2)\n",
    "\n",
    "print(F(7))\n",
    "\n",
    "#Python"
   ]
  },
  {
   "cell_type": "markdown",
   "id": "5e50804d",
   "metadata": {},
   "source": [
    "###\n",
    "## 4a.  Generate an Arithmetic Progression (AP)\n",
    "Write a program to generate the first 10 terms of an arithmetic progression where the first term is a = 3 and the common difference d = 5.\n",
    "\n",
    "i.e: Output should be: 3, 8, 13, 18, 23, 28, 33, 38, 43, 48\n",
    "\n",
    "###"
   ]
  },
  {
   "cell_type": "code",
   "execution_count": 4,
   "id": "032214fb",
   "metadata": {},
   "outputs": [
    {
     "name": "stdout",
     "output_type": "stream",
     "text": [
      "3\n",
      "8\n",
      "13\n",
      "18\n",
      "23\n",
      "28\n",
      "33\n",
      "38\n",
      "43\n",
      "48\n"
     ]
    }
   ],
   "source": [
    "print(3)\n",
    "count = 1\n",
    "\n",
    "def ap(a):\n",
    "    global count\n",
    "    \n",
    "    while count < 10:\n",
    "        count += 1\n",
    "        print(a)\n",
    "        a += 5\n",
    "    \n",
    "\n",
    "ap(8)"
   ]
  },
  {
   "cell_type": "markdown",
   "id": "c88fd216",
   "metadata": {},
   "source": [
    "###\n",
    "## 4b.  Generate an Arithmetic Progression (AP)\n",
    "Write a program to generate the first 10 terms of an arithmetic progression where the first term is a = 3 and the common difference d = 5.\n",
    "\n",
    "i.e: Output should be: 3, 8, 13, 18, 23, 28, 33, 38, 43, 48\n",
    "\n",
    "###"
   ]
  },
  {
   "cell_type": "code",
   "execution_count": 5,
   "id": "219d2562",
   "metadata": {},
   "outputs": [
    {
     "name": "stdout",
     "output_type": "stream",
     "text": [
      "3\n",
      "8\n",
      "13\n",
      "18\n",
      "23\n",
      "28\n",
      "33\n",
      "38\n",
      "43\n",
      "48\n"
     ]
    }
   ],
   "source": [
    "a = 3\n",
    "\n",
    "for i in range(10):\n",
    "    print(a)\n",
    "    a += 5\n",
    "    \n",
    "    "
   ]
  },
  {
   "cell_type": "markdown",
   "id": "5a0131c8",
   "metadata": {},
   "source": [
    "###\n",
    "## 4c.  Generate an Arithmetic Progression (AP)\n",
    "Write a program to generate the first 10 terms of an arithmetic progression where the first term is a = 3 and the common difference d = 5.\n",
    "\n",
    "i.e: Output should be: 3, 8, 13, 18, 23, 28, 33, 38, 43, 48\n",
    "\n",
    "###"
   ]
  },
  {
   "cell_type": "code",
   "execution_count": 6,
   "id": "8a27ff12",
   "metadata": {},
   "outputs": [
    {
     "name": "stdout",
     "output_type": "stream",
     "text": [
      "ap = [3, 8, 13, 18, 23, 28, 33, 38, 43, 48]\n",
      "\n",
      "3\n",
      "8\n",
      "13\n",
      "18\n",
      "23\n",
      "28\n",
      "33\n",
      "38\n",
      "43\n",
      "48\n"
     ]
    }
   ],
   "source": [
    "ap = [3 + i * 5 for i in range(10)]\n",
    "print(f'ap = {ap}\\n')\n",
    "for i in ap:\n",
    "    print(i)"
   ]
  },
  {
   "cell_type": "markdown",
   "id": "c02117dd",
   "metadata": {},
   "source": [
    "###\n",
    "## 4d.  Generate an Arithmetic Progression (AP)\n",
    "Write a program to generate the first 10 terms of an arithmetic progression where the first term is a = 3 and the common difference d = 5.\n",
    "\n",
    "i.e: Output should be: 3, 8, 13, 18, 23, 28, 33, 38, 43, 48\n",
    "\n",
    "###"
   ]
  },
  {
   "cell_type": "code",
   "execution_count": 7,
   "id": "2f974a6f",
   "metadata": {},
   "outputs": [
    {
     "name": "stdout",
     "output_type": "stream",
     "text": [
      "It's an example code to explain this for loop line!\n",
      "Here in (1, 20, 3) it's like (start, end, incrementation)\n",
      "i.e:\n",
      "\n",
      "1\n",
      "4\n",
      "7\n",
      "10\n",
      "13\n",
      "16\n",
      "19\n"
     ]
    }
   ],
   "source": [
    "print(\"It's an example code to explain this for loop line!\\nHere in (1, 20, 3) it's like (start, end, incrementation)\\ni.e:\\n\")\n",
    "\n",
    "for a in range(1, 20, 3):\n",
    "    print(a)"
   ]
  },
  {
   "cell_type": "code",
   "execution_count": 8,
   "id": "4161c3a9",
   "metadata": {},
   "outputs": [
    {
     "name": "stdout",
     "output_type": "stream",
     "text": [
      "3\n",
      "8\n",
      "13\n",
      "18\n",
      "23\n",
      "28\n",
      "33\n",
      "38\n",
      "43\n",
      "48\n"
     ]
    }
   ],
   "source": [
    "for i in range(3, 3 + 10 * 5, 5):\n",
    "    print(i)\n",
    "    \n"
   ]
  },
  {
   "cell_type": "markdown",
   "id": "0c680ca8",
   "metadata": {},
   "source": [
    "###\n",
    "## 5a. Generate a Geometric Progression (GP)\n",
    "Generate the first 10 terms of a geometric progression where the first term is a = 2 and the common ratio r = 3.\n",
    "\n",
    "Output Example: 2, 6, 18, 54, 162, ...\n",
    "\n",
    "###"
   ]
  },
  {
   "cell_type": "code",
   "execution_count": 9,
   "id": "b4606f82",
   "metadata": {},
   "outputs": [
    {
     "name": "stdout",
     "output_type": "stream",
     "text": [
      "2\n",
      "6\n",
      "18\n",
      "54\n",
      "162\n"
     ]
    }
   ],
   "source": [
    "def gp(num):\n",
    "    \n",
    "    for i in range(5):\n",
    "        print(num)\n",
    "        num *= 3\n",
    "        \n",
    "gp(2)"
   ]
  },
  {
   "cell_type": "markdown",
   "id": "c3c64f5a",
   "metadata": {},
   "source": [
    "###\n",
    "## 5b. Generate a Geometric Progression (GP)\n",
    "Generate the first 10 terms of a geometric progression where the first term is a = 2 and the common ratio r = 3.\n",
    "\n",
    "Output Example: 2, 6, 18, 54, 162, ...\n",
    "\n",
    "###"
   ]
  },
  {
   "cell_type": "code",
   "execution_count": 10,
   "id": "0a280ba8",
   "metadata": {},
   "outputs": [
    {
     "name": "stdout",
     "output_type": "stream",
     "text": [
      "2\n",
      "6\n",
      "18\n",
      "54\n",
      "162\n"
     ]
    }
   ],
   "source": [
    "gp = [2 * (3 ** i) for i in range(5)] # GP formula: a * r^i\n",
    "for i in gp:\n",
    "    print(i)"
   ]
  },
  {
   "cell_type": "markdown",
   "id": "4b346ff0",
   "metadata": {},
   "source": [
    "###\n",
    "## 5c. Generate a Geometric Progression (GP)\n",
    "Generate the first 10 terms of a geometric progression where the first term is a = 2 and the common ratio r = 3.\n",
    "\n",
    "Output Example: 2, 6, 18, 54, 162, ...\n",
    "\n",
    "###"
   ]
  },
  {
   "cell_type": "code",
   "execution_count": 11,
   "id": "5a2b8613",
   "metadata": {},
   "outputs": [
    {
     "name": "stdout",
     "output_type": "stream",
     "text": [
      "2\n",
      "6\n",
      "18\n",
      "54\n",
      "162\n"
     ]
    }
   ],
   "source": [
    "a = 2\n",
    "r = 3\n",
    "\n",
    "for i in range(5):\n",
    "    print(a * (r**i))"
   ]
  },
  {
   "cell_type": "markdown",
   "id": "287dd994",
   "metadata": {},
   "source": [
    "###\n",
    "## 6. Sum of Even Numbers\n",
    "Calculate and print the sum of even numbers in a list.\n",
    "\n",
    "###"
   ]
  },
  {
   "cell_type": "code",
   "execution_count": 12,
   "id": "afbb1b35",
   "metadata": {},
   "outputs": [
    {
     "name": "stdout",
     "output_type": "stream",
     "text": [
      "30\n"
     ]
    }
   ],
   "source": [
    "a = [1,2,3,4,5,6,7,8,9,10]\n",
    "sum_ = 0\n",
    "\n",
    "for i in a:\n",
    "    if i % 2 == 0:\n",
    "        sum_ += i\n",
    "        \n",
    "    else:\n",
    "        None\n",
    "\n",
    "print(sum_)"
   ]
  },
  {
   "cell_type": "markdown",
   "id": "9afdd8b4",
   "metadata": {},
   "source": [
    "###\n",
    "## 7. Reverse an Integer\n",
    "Take an integer input (e.g., 12345) and print the digits in reverse order.\n",
    "\n",
    "Input Example: 12345\n",
    "\n",
    "###"
   ]
  },
  {
   "cell_type": "code",
   "execution_count": 13,
   "id": "44a1af59",
   "metadata": {},
   "outputs": [
    {
     "name": "stdout",
     "output_type": "stream",
     "text": [
      "987654321\n"
     ]
    }
   ],
   "source": [
    "num = 123456789\n",
    "revnum = 0\n",
    "\n",
    "while num > 0:\n",
    "    lastdigit = num % 10           \n",
    "    revnum = revnum * 10 + lastdigit   \n",
    "    num //= 10                      \n",
    "    \n",
    "print(revnum)"
   ]
  },
  {
   "cell_type": "markdown",
   "id": "868ef4c0",
   "metadata": {},
   "source": [
    "###\n",
    "## 8. Collatz Conjecture\n",
    "For a given number n, repeatedly perform the following operations:\n",
    "\n",
    "- If n is even, divide it by 2.\n",
    "* If n is odd, multiply it by 3 and add 1.\n",
    "\n",
    "Stop the loop when n = 1.\n",
    "\n",
    "Example: If n = 6, output should be: 6, 3, 10, 5, 16, 8, 4, 2, 1\n",
    "\n",
    "###"
   ]
  },
  {
   "cell_type": "code",
   "execution_count": 6,
   "id": "e1a765ef",
   "metadata": {},
   "outputs": [
    {
     "name": "stdout",
     "output_type": "stream",
     "text": [
      "6\n",
      "3\n",
      "10\n",
      "5\n",
      "16\n",
      "8\n",
      "4\n",
      "2\n",
      "1\n"
     ]
    }
   ],
   "source": [
    "n = 6\n",
    "print(n)\n",
    "\n",
    "while n != 1:\n",
    "    if n % 2 == 0:\n",
    "        n //= 2\n",
    "    else:\n",
    "        n = n * 3 + 1\n",
    "    print(n)"
   ]
  },
  {
   "cell_type": "markdown",
   "id": "bb564eea",
   "metadata": {},
   "source": [
    "###\n",
    "## 9. Factorial:\n",
    "###"
   ]
  },
  {
   "cell_type": "code",
   "execution_count": 11,
   "id": "4946b43b",
   "metadata": {},
   "outputs": [
    {
     "name": "stdout",
     "output_type": "stream",
     "text": [
      "120\n"
     ]
    }
   ],
   "source": [
    "num = 5\n",
    "factorial = 1\n",
    "\n",
    "while num > 1:\n",
    "    factorial *= num\n",
    "    num -= 1\n",
    "    \n",
    "print(factorial)"
   ]
  },
  {
   "cell_type": "markdown",
   "id": "404a0ebc",
   "metadata": {},
   "source": [
    "###\n",
    "## 10. Palindrome Checker:\n",
    "###"
   ]
  },
  {
   "cell_type": "code",
   "execution_count": 17,
   "id": "8b48ea80",
   "metadata": {},
   "outputs": [
    {
     "name": "stdout",
     "output_type": "stream",
     "text": [
      "It's Palindrome\n"
     ]
    }
   ],
   "source": [
    "num = 122221\n",
    "n = num\n",
    "revnum = 0\n",
    "\n",
    "while n > 0:\n",
    "    lastdigit = n % 10           \n",
    "    revnum = revnum * 10 + lastdigit   \n",
    "    n //= 10                      \n",
    "    \n",
    "if revnum == num:\n",
    "    print(\"It's Palindrome\")\n",
    "elif revnum != num:\n",
    "    print(\"It's not Palindrome\")\n",
    "else:\n",
    "    print('hi')"
   ]
  },
  {
   "cell_type": "markdown",
   "id": "cd76109f",
   "metadata": {},
   "source": [
    "###\n",
    "## 11a. Palindrome Checker for Words + Integers:\n",
    "###"
   ]
  },
  {
   "cell_type": "code",
   "execution_count": 20,
   "id": "5df8d379",
   "metadata": {},
   "outputs": [
    {
     "name": "stdout",
     "output_type": "stream",
     "text": [
      "Enter word or integer: racecar\n",
      "It's Palindrome\n"
     ]
    }
   ],
   "source": [
    "word = str(input('Enter word or integer: '))\n",
    "word = list(str(word))\n",
    "\n",
    "if word == word[::-1]:\n",
    "    print(\"It's Palindrome\")\n",
    "else:\n",
    "    print(\"It's not Palindrome\")"
   ]
  },
  {
   "cell_type": "markdown",
   "id": "7d24e2a5",
   "metadata": {},
   "source": [
    "###\n",
    "## 11b. Palindrome Checker for Words + Integers:\n",
    "###"
   ]
  },
  {
   "cell_type": "code",
   "execution_count": 14,
   "id": "10d542a2",
   "metadata": {},
   "outputs": [
    {
     "name": "stdout",
     "output_type": "stream",
     "text": [
      "Enter a word or integer: 122331\n",
      "It's not Palindrome\n"
     ]
    }
   ],
   "source": [
    "word = str(input('Enter a word or integer: '))\n",
    "revstr = ''\n",
    "\n",
    "for i in range(len(word)-1, -1, -1):\n",
    "    revstr += word[i]\n",
    "\n",
    "if word == revstr:\n",
    "    print(\"It's Palindrome\")\n",
    "else:\n",
    "    print(\"It's not Palindrome\")\n",
    "    \n"
   ]
  },
  {
   "cell_type": "markdown",
   "id": "b8a594dd",
   "metadata": {},
   "source": [
    "###\n",
    "## 12. Sum of Digits:\n",
    "###"
   ]
  },
  {
   "cell_type": "code",
   "execution_count": 29,
   "id": "6e7f58c9",
   "metadata": {},
   "outputs": [
    {
     "name": "stdout",
     "output_type": "stream",
     "text": [
      "Enter any digit: 123\n",
      "6\n",
      "Enter any digit: 123\n",
      "6\n"
     ]
    }
   ],
   "source": [
    "digit = str(input('Enter any digit: '))\n",
    "add = 0\n",
    "\n",
    "for i in range(len(digit)):\n",
    "    z = int(digit[i])\n",
    "    add += z\n",
    "\n",
    "print(add)\n",
    "\n",
    "#or\n",
    "\n",
    "digit = str(input('Enter any digit: '))\n",
    "add = 0\n",
    "\n",
    "for i in range(len(digit)):\n",
    "    add += int(digit[i])\n",
    "\n",
    "print(add) "
   ]
  },
  {
   "cell_type": "code",
   "execution_count": null,
   "id": "2b7ac681",
   "metadata": {},
   "outputs": [],
   "source": []
  }
 ],
 "metadata": {
  "kernelspec": {
   "display_name": "Python 3 (ipykernel)",
   "language": "python",
   "name": "python3"
  },
  "language_info": {
   "codemirror_mode": {
    "name": "ipython",
    "version": 3
   },
   "file_extension": ".py",
   "mimetype": "text/x-python",
   "name": "python",
   "nbconvert_exporter": "python",
   "pygments_lexer": "ipython3",
   "version": "3.11.5"
  }
 },
 "nbformat": 4,
 "nbformat_minor": 5
}
