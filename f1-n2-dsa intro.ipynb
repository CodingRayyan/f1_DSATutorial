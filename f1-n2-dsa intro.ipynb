{
 "cells": [
  {
   "cell_type": "markdown",
   "id": "2d7cabac",
   "metadata": {},
   "source": [
    "###\n",
    "## What are Data Structures?\n",
    "###\n",
    "A data structure is a way of organizing and storing data to make it easier to use.\n",
    "\n",
    "**Example: Family Tree**\n",
    "\n",
    "Think of a family tree. It helps organize information about family members and their relationships, making it easy to find someone, like \"Who is my grandmother?\"\n",
    "\n",
    "### Why Are Data Structures Important?\n",
    "\n",
    "- They help manage large data efficiently (e.g., databases, search engines).\n",
    "- They are key to building fast and effective algorithms.\n",
    "- They reduce complexity and improve performance.\n",
    "\n",
    "### Types of Data Structures in Computer Science:\n",
    "\n",
    "- Primitive Data Structures: Basic types like integers, floats, characters, and booleans.\n",
    "- Abstract Data Structures: More advanced structures like arrays, linked lists, stacks, queues, trees, and graphs, built using primitive types for complex tasks."
   ]
  }
 ],
 "metadata": {
  "kernelspec": {
   "display_name": "Python 3 (ipykernel)",
   "language": "python",
   "name": "python3"
  },
  "language_info": {
   "codemirror_mode": {
    "name": "ipython",
    "version": 3
   },
   "file_extension": ".py",
   "mimetype": "text/x-python",
   "name": "python",
   "nbconvert_exporter": "python",
   "pygments_lexer": "ipython3",
   "version": "3.11.5"
  }
 },
 "nbformat": 4,
 "nbformat_minor": 5
}
